{
 "cells": [
  {
   "cell_type": "markdown",
   "id": "afee6923-4777-4d7f-ba1c-097e1582dea6",
   "metadata": {},
   "source": [
    "# Sorting Practice Questions"
   ]
  },
  {
   "cell_type": "markdown",
   "id": "37ef7658-7833-4daf-97df-76bba4749ade",
   "metadata": {},
   "source": [
    "## Problem 1.Given an array of n numbers, give an algorithm which gives the element appearing maximum number of times?"
   ]
  },
  {
   "cell_type": "code",
   "execution_count": 6,
   "id": "0860f4d0-fb5e-46c8-a93c-79f9dd3b3692",
   "metadata": {},
   "outputs": [
    {
     "name": "stdout",
     "output_type": "stream",
     "text": [
      "5\n"
     ]
    }
   ],
   "source": [
    "def find_max_occurrence_element(arr):\n",
    "    count_dict = {}\n",
    "    \n",
    "    for element in arr:\n",
    "        if element in count_dict:\n",
    "            count_dict[element] += 1\n",
    "        else:\n",
    "            count_dict[element] = 1\n",
    "    max_count = 0\n",
    "    max_element = None\n",
    "    for element, count in count_dict.items():\n",
    "        if count > max_count:\n",
    "            max_count = count\n",
    "            max_element = element\n",
    "    \n",
    "    return max_element\n",
    "\n",
    "arr = [1, 2, 2, 3, 3, 3, 4, 4, 4, 4 ,5 ,5 ,5 ,5 ,5]\n",
    "print(find_max_occurrence_element(arr))  "
   ]
  },
  {
   "cell_type": "code",
   "execution_count": null,
   "id": "be04701c-c06d-4060-bd66-f68d5371e269",
   "metadata": {},
   "outputs": [],
   "source": []
  },
  {
   "cell_type": "markdown",
   "id": "527122ba-7e52-4903-9a57-e33962775b44",
   "metadata": {},
   "source": [
    " ### Problem 2 : We are given a list of n-1 integers and these integers are in the range of 1 to n . There are no duplicates in the list. One of the integers is missing in the list. Give an algorithm to find that element Ex: [1,2,4,6,3,7,8] 5 is the missing num."
   ]
  },
  {
   "cell_type": "code",
   "execution_count": 9,
   "id": "f718402e-1966-4d7e-863d-32e5ab6ce968",
   "metadata": {},
   "outputs": [
    {
     "name": "stdout",
     "output_type": "stream",
     "text": [
      "5\n"
     ]
    }
   ],
   "source": [
    "def find_missing_number(arr):\n",
    "    n = len(arr) + 1  # Since one number is missing\n",
    "    expected_sum = n * (n + 1) // 2\n",
    "    actual_sum = sum(arr)\n",
    "    missing_number = expected_sum - actual_sum\n",
    "    return missing_number\n",
    "\n",
    "arr = [1, 2, 4, 6, 3, 7, 8]\n",
    "print(find_missing_number(arr))  "
   ]
  },
  {
   "cell_type": "code",
   "execution_count": null,
   "id": "24af2002-e58d-4130-b003-4c7452f3478a",
   "metadata": {},
   "outputs": [],
   "source": []
  },
  {
   "cell_type": "markdown",
   "id": "d84bc99a-6e80-4cd1-9cee-2bb10cfef54b",
   "metadata": {},
   "source": [
    "### Problem 3 : Given an array of n positive numbers. All numbers occurs even number of times except 1 which occurs odd number of times. Find that number in O(n) time and O(1) space. Ex: [1,2,3,2,3,1,3]. 3 is repeats odd times."
   ]
  },
  {
   "cell_type": "code",
   "execution_count": 12,
   "id": "af206e16-ef63-4474-b96f-77a938f0bf94",
   "metadata": {},
   "outputs": [
    {
     "name": "stdout",
     "output_type": "stream",
     "text": [
      "3\n"
     ]
    }
   ],
   "source": [
    "\n",
    "def find_odd_occurrence(arr):\n",
    "    result = 0\n",
    "    for num in arr:\n",
    "        result ^= num  \n",
    "    return result\n",
    "\n",
    "# Example usage:\n",
    "arr = [1, 2, 3, 2, 3, 1, 3]\n",
    "result = find_odd_occurrence(arr)\n",
    "print(result)"
   ]
  },
  {
   "cell_type": "code",
   "execution_count": null,
   "id": "77ba935e-b8ee-46c9-aca2-f69ad8143042",
   "metadata": {},
   "outputs": [],
   "source": []
  },
  {
   "cell_type": "markdown",
   "id": "083dc614-dc68-41b8-ae05-e554391e476e",
   "metadata": {},
   "source": [
    "### Problem 4 : Given an array of n elements. Find two elements in the array such that their sum is equal to given element K."
   ]
  },
  {
   "cell_type": "code",
   "execution_count": 24,
   "id": "2e341eaf-132a-48ef-b965-8d82a692359c",
   "metadata": {},
   "outputs": [
    {
     "name": "stdout",
     "output_type": "stream",
     "text": [
      "(8, 7)\n"
     ]
    }
   ],
   "source": [
    "def find_ele(arr, k):\n",
    "    seen = set()\n",
    "    for ele in arr:\n",
    "        complement = k - ele\n",
    "        if complement in seen:\n",
    "            return (ele, complement)\n",
    "        seen.add(ele)\n",
    "    return None\n",
    "\n",
    "#Example usage\n",
    "arr = [1, 3, 5, 6, 7, 8, 3]\n",
    "print(find_ele(arr, 15))"
   ]
  },
  {
   "cell_type": "code",
   "execution_count": null,
   "id": "6d4c7deb-f23d-4392-801a-e6dc0c803d7e",
   "metadata": {},
   "outputs": [],
   "source": []
  },
  {
   "cell_type": "markdown",
   "id": "c703815b-7ffa-46ad-ab3e-7414c0663a9a",
   "metadata": {},
   "source": [
    "### Problem 5 : Given an array of both positive and negative numbers, find two numbers such that their sum is closest to 0. Ex: [ 1 ,60 ,-10, 70, -80,85]. Ans : -80,85."
   ]
  },
  {
   "cell_type": "code",
   "execution_count": 26,
   "id": "64b7929d-76e1-4207-a220-cf1ae1491268",
   "metadata": {},
   "outputs": [
    {
     "name": "stdout",
     "output_type": "stream",
     "text": [
      "(-80, 85)\n"
     ]
    }
   ],
   "source": [
    "def find_closest_to_zero_pair(arr):\n",
    "    arr.sort()\n",
    "    left = 0\n",
    "    right = len(arr) - 1\n",
    "    closest_sum = float('inf')\n",
    "    closest_pair = (None, None)\n",
    "\n",
    "    while left < right:\n",
    "        current_sum = arr[left] + arr[right]\n",
    "\n",
    "        # Update the closest pair if the current sum is closer to zero\n",
    "        if abs(current_sum) < abs(closest_sum):\n",
    "            closest_sum = current_sum\n",
    "            closest_pair = (arr[left], arr[right])\n",
    "\n",
    "        # Move the pointers\n",
    "        if current_sum < 0:\n",
    "            left += 1\n",
    "        elif current_sum > 0:\n",
    "            right -= 1\n",
    "        else:\n",
    "            # If current_sum is zero, it's the closest to zero we can get\n",
    "            break\n",
    "\n",
    "    return closest_pair\n",
    "\n",
    "# Example usage:\n",
    "arr = [1, 60, -10, 70, -80, 85]\n",
    "print(find_closest_to_zero_pair(arr))  # Output should be (-80, 85)\n"
   ]
  },
  {
   "cell_type": "code",
   "execution_count": null,
   "id": "2a491946-f1ff-4b62-95e0-0c52bf5e6f2f",
   "metadata": {},
   "outputs": [],
   "source": []
  },
  {
   "cell_type": "markdown",
   "id": "64967232-fe55-4823-b56f-4fa117050d1b",
   "metadata": {},
   "source": [
    "### Problem 6 : Given an array of n elements . Find three elements such that their sum is equal to the given number."
   ]
  },
  {
   "cell_type": "code",
   "execution_count": 33,
   "id": "12cb8301-ca5d-486a-a8e1-88f91b93d428",
   "metadata": {},
   "outputs": [
    {
     "name": "stdout",
     "output_type": "stream",
     "text": [
      "(4, 6, 10)\n"
     ]
    }
   ],
   "source": [
    "def find_three_elements_with_sum(arr, K):\n",
    "    arr.sort()\n",
    "    n = len(arr)\n",
    "    \n",
    "    for i in range(n - 2):\n",
    "        left = i + 1\n",
    "        right = n - 1\n",
    "        \n",
    "        while left < right:\n",
    "            current_sum = arr[i] + arr[left] + arr[right]\n",
    "            \n",
    "            if current_sum == K:\n",
    "                return (arr[i], arr[left], arr[right])\n",
    "            elif current_sum < K:\n",
    "                left += 1\n",
    "            else:\n",
    "                right -= 1\n",
    "    \n",
    "    return None  # Return None if no such triplet exists\n",
    "\n",
    "# Example usage:\n",
    "arr = [1, 4, 45, 6, 10, 8]\n",
    "K = 20\n",
    "print(find_three_elements_with_sum(arr, K))  "
   ]
  },
  {
   "cell_type": "code",
   "execution_count": null,
   "id": "04314f16-4f80-4d8e-9747-98387ced46f2",
   "metadata": {},
   "outputs": [],
   "source": []
  },
  {
   "cell_type": "markdown",
   "id": "9a77a387-1b94-4500-85e1-4fbad57e6434",
   "metadata": {},
   "source": [
    "### Problem 7 : Given an array of n elements . Find three elements i, j, k in the array such that i * i + j * j = k*k."
   ]
  },
  {
   "cell_type": "code",
   "execution_count": 40,
   "id": "0c00a301-2095-4eb1-9ecf-22bf4f51d227",
   "metadata": {},
   "outputs": [
    {
     "name": "stdout",
     "output_type": "stream",
     "text": [
      "Triplet found: (3, 4, 5)\n"
     ]
    }
   ],
   "source": [
    "def find_triplets(arr):\n",
    "    n = len(arr)\n",
    "    for i in range(n):\n",
    "        for j in range(i+1,n):\n",
    "            for k in range(j+1,n):\n",
    "                # Check if i*i + j*j equals k*k\n",
    "                if arr[i] * arr[i] + arr[j] * arr[j] == arr[k] * arr[k] or \\\n",
    "                   arr[j] * arr[j] + arr[k] * arr[k] == arr[i] * arr[i] or \\\n",
    "                   arr[k] * arr[k] + arr[i] * arr[i] == arr[j] * arr[j]:\n",
    "                    return arr[i], arr[j], arr[k]\n",
    "\n",
    "arr = [1,2,3,4,5]\n",
    "result = find_triplets(arr)\n",
    "if result:\n",
    "    print(\"Triplet found:\",result)\n",
    "else:\n",
    "    print(\"No triplet found!\")"
   ]
  },
  {
   "cell_type": "code",
   "execution_count": null,
   "id": "010a907e-ce57-4a2b-962b-b03311e5b938",
   "metadata": {},
   "outputs": [],
   "source": []
  },
  {
   "cell_type": "markdown",
   "id": "ce903c76-699e-4ed9-8fcf-2fdf8af654d9",
   "metadata": {},
   "source": [
    "### Problem 8 : An element is a majority if it appears more than n/2 times. Give an algorithm takes an array of n element as argument and identifies a majority (if it exists)."
   ]
  },
  {
   "cell_type": "code",
   "execution_count": 49,
   "id": "893b64cd-f5f0-44e1-b689-79ed390ed023",
   "metadata": {},
   "outputs": [
    {
     "name": "stdout",
     "output_type": "stream",
     "text": [
      "3\n"
     ]
    }
   ],
   "source": [
    "def find_majority(arr):\n",
    "    n = len(arr)\n",
    "    unique_ele = set()\n",
    "    \n",
    "    for ele in arr:\n",
    "        unique_ele.add(ele)\n",
    "    \n",
    "    for ele in unique_ele:\n",
    "        count = arr.count(ele)\n",
    "        if count > n/2:\n",
    "            return ele\n",
    "\n",
    "arr = [1,2,3,4,5,6,2,3,2,2,3,3,3,3,3,3,3,3]\n",
    "print(find_majority(arr))"
   ]
  },
  {
   "cell_type": "code",
   "execution_count": null,
   "id": "4b0d1615-1219-4bce-bbb4-a03d9f46ff7a",
   "metadata": {},
   "outputs": [],
   "source": []
  },
  {
   "cell_type": "markdown",
   "id": "e3177362-e64d-4200-ada3-12fa6c812963",
   "metadata": {},
   "source": [
    "### Problem 9 : Given n × n matrix, and in each row all 1’s are followed by 0’s. Find the row with the maximum number of 0’s."
   ]
  },
  {
   "cell_type": "code",
   "execution_count": 52,
   "id": "886d2097-f3b7-4177-b16b-07030a4b9ed8",
   "metadata": {},
   "outputs": [
    {
     "name": "stdout",
     "output_type": "stream",
     "text": [
      "2\n"
     ]
    }
   ],
   "source": [
    "def find_max_zeros_row(matrix):\n",
    "    n = len(matrix)\n",
    "    max_zeros_row = 0\n",
    "    max_zeros = 0\n",
    "    \n",
    "    for row in range(n):\n",
    "        # Binary search for the first occurrence of 0 in the current row\n",
    "        left, right = 0, n - 1\n",
    "        count_zeros = 0\n",
    "        \n",
    "        while left <= right:\n",
    "            mid = (left + right) // 2\n",
    "            if matrix[row][mid] == 0:\n",
    "                count_zeros = n - mid  # All elements to the right are zeros\n",
    "                right = mid - 1\n",
    "            else:\n",
    "                left = mid + 1\n",
    "        # Update maximum zeros found so far\n",
    "        if count_zeros > max_zeros:\n",
    "            max_zeros = count_zeros\n",
    "            max_zeros_row = row\n",
    "    \n",
    "    return max_zeros_row\n",
    "matrix = [\n",
    "    [1, 1, 1, 0],\n",
    "    [1, 1, 0, 0],\n",
    "    [1, 0, 0, 0],\n",
    "    [1, 1, 1, 1]\n",
    "]\n",
    "print(find_max_zeros_row(matrix))  # Output should be 2 (corresponding to row index 2)"
   ]
  },
  {
   "cell_type": "code",
   "execution_count": null,
   "id": "72cc9895-708e-472e-94ca-a7709dbc0d38",
   "metadata": {},
   "outputs": [],
   "source": []
  },
  {
   "cell_type": "markdown",
   "id": "6496de61-1e02-4d0c-ba5d-a7b6f1bd9d1c",
   "metadata": {},
   "source": [
    "### Problem 10 : Sort an array of 0’s, 1’s and 2’s [or R’s, G’s and B’s]: Given an array A[] consisting of 0’s, 1’s and 2’s, give an algorithm for sorting A[].The algorithm should put all 0’s first, then all 1’s and finally all 2’s at the end. Example Input = {0,1,1,0,1,2,1,2,0,0,0,1}, Output = {0,0,0,0,0,1,1,1,1,1,2,2}"
   ]
  },
  {
   "cell_type": "code",
   "execution_count": 57,
   "id": "4fda1bdc-1eac-4f5a-8219-b9cdbb94f4a3",
   "metadata": {},
   "outputs": [
    {
     "name": "stdout",
     "output_type": "stream",
     "text": [
      "Original array: [0, 1, 1, 0, 1, 2, 1, 2, 0, 0, 0, 1]\n",
      "Sorted array: [0, 0, 0, 0, 0, 1, 1, 1, 1, 1, 2, 2]\n"
     ]
    }
   ],
   "source": [
    "def sort_num(arr):\n",
    "    low, mid, high = 0, 0, len(arr) - 1\n",
    "\n",
    "    while mid <= high:\n",
    "        if arr[mid] == 0:\n",
    "            arr[low], arr[mid] = arr[mid], arr[low]\n",
    "            low += 1\n",
    "            mid += 1\n",
    "        elif arr[mid] == 1:\n",
    "            mid += 1\n",
    "        else:\n",
    "            arr[mid], arr[high] = arr[high], arr[mid]\n",
    "            high -= 1\n",
    "\n",
    "# Example usage\n",
    "arr = [0, 1, 1, 0, 1, 2, 1, 2, 0, 0, 0, 1]\n",
    "print(\"Original array:\", arr)\n",
    "sort_num(arr)\n",
    "print(\"Sorted array:\", arr)\n"
   ]
  },
  {
   "cell_type": "code",
   "execution_count": null,
   "id": "4c18bcc9-815c-448c-bc03-16c18460baf4",
   "metadata": {},
   "outputs": [],
   "source": []
  }
 ],
 "metadata": {
  "kernelspec": {
   "display_name": "Python 3 (ipykernel)",
   "language": "python",
   "name": "python3"
  },
  "language_info": {
   "codemirror_mode": {
    "name": "ipython",
    "version": 3
   },
   "file_extension": ".py",
   "mimetype": "text/x-python",
   "name": "python",
   "nbconvert_exporter": "python",
   "pygments_lexer": "ipython3",
   "version": "3.10.8"
  }
 },
 "nbformat": 4,
 "nbformat_minor": 5
}
